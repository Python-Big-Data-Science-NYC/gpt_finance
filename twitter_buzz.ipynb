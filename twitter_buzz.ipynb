{
 "cells": [
  {
   "cell_type": "code",
   "execution_count": 16,
   "id": "5ce0afc2-5c7c-478d-a6f5-a48fcfce05a5",
   "metadata": {},
   "outputs": [
    {
     "ename": "TypeError",
     "evalue": "can only inherit from a NamedTuple type and Generic",
     "output_type": "error",
     "traceback": [
      "\u001b[0;31m---------------------------------------------------------------------------\u001b[0m",
      "\u001b[0;31mTypeError\u001b[0m                                 Traceback (most recent call last)",
      "Cell \u001b[0;32mIn[16], line 1\u001b[0m\n\u001b[0;32m----> 1\u001b[0m \u001b[38;5;28;01mimport\u001b[39;00m \u001b[38;5;21;01msnscrape\u001b[39;00m\u001b[38;5;21;01m.\u001b[39;00m\u001b[38;5;21;01mmodules\u001b[39;00m\u001b[38;5;21;01m.\u001b[39;00m\u001b[38;5;21;01mtwitter\u001b[39;00m \u001b[38;5;28;01mas\u001b[39;00m \u001b[38;5;21;01msntwitter\u001b[39;00m\n\u001b[1;32m      3\u001b[0m \u001b[38;5;28;01mimport\u001b[39;00m \u001b[38;5;21;01mpandas\u001b[39;00m \u001b[38;5;28;01mas\u001b[39;00m \u001b[38;5;21;01mpd\u001b[39;00m\n\u001b[1;32m      4\u001b[0m \u001b[38;5;28;01mfrom\u001b[39;00m \u001b[38;5;21;01mdatetime\u001b[39;00m \u001b[38;5;28;01mimport\u001b[39;00m datetime, timedelta\n",
      "File \u001b[0;32m~/anaconda3/lib/python3.12/site-packages/snscrape/modules/__init__.py:15\u001b[0m\n\u001b[1;32m     11\u001b[0m \t\t\tmoduleName \u001b[38;5;241m=\u001b[39m \u001b[38;5;124mf\u001b[39m\u001b[38;5;124m'\u001b[39m\u001b[38;5;124msnscrape.modules.\u001b[39m\u001b[38;5;132;01m{\u001b[39;00mfn[:\u001b[38;5;241m-\u001b[39m\u001b[38;5;241m3\u001b[39m]\u001b[38;5;132;01m}\u001b[39;00m\u001b[38;5;124m'\u001b[39m\n\u001b[1;32m     12\u001b[0m \t\t\tmodule \u001b[38;5;241m=\u001b[39m importlib\u001b[38;5;241m.\u001b[39mimport_module(moduleName)\n\u001b[0;32m---> 15\u001b[0m _import_modules()\n",
      "File \u001b[0;32m~/anaconda3/lib/python3.12/site-packages/snscrape/modules/__init__.py:12\u001b[0m, in \u001b[0;36m_import_modules\u001b[0;34m()\u001b[0m\n\u001b[1;32m      9\u001b[0m \u001b[38;5;28;01mif\u001b[39;00m fn\u001b[38;5;241m.\u001b[39mendswith(\u001b[38;5;124m'\u001b[39m\u001b[38;5;124m.py\u001b[39m\u001b[38;5;124m'\u001b[39m) \u001b[38;5;129;01mand\u001b[39;00m fn \u001b[38;5;241m!=\u001b[39m \u001b[38;5;124m'\u001b[39m\u001b[38;5;124m__init__.py\u001b[39m\u001b[38;5;124m'\u001b[39m:\n\u001b[1;32m     10\u001b[0m \t\u001b[38;5;66;03m# Import module if not already imported\u001b[39;00m\n\u001b[1;32m     11\u001b[0m \tmoduleName \u001b[38;5;241m=\u001b[39m \u001b[38;5;124mf\u001b[39m\u001b[38;5;124m'\u001b[39m\u001b[38;5;124msnscrape.modules.\u001b[39m\u001b[38;5;132;01m{\u001b[39;00mfn[:\u001b[38;5;241m-\u001b[39m\u001b[38;5;241m3\u001b[39m]\u001b[38;5;132;01m}\u001b[39;00m\u001b[38;5;124m'\u001b[39m\n\u001b[0;32m---> 12\u001b[0m \tmodule \u001b[38;5;241m=\u001b[39m importlib\u001b[38;5;241m.\u001b[39mimport_module(moduleName)\n",
      "File \u001b[0;32m~/anaconda3/lib/python3.12/importlib/__init__.py:90\u001b[0m, in \u001b[0;36mimport_module\u001b[0;34m(name, package)\u001b[0m\n\u001b[1;32m     88\u001b[0m             \u001b[38;5;28;01mbreak\u001b[39;00m\n\u001b[1;32m     89\u001b[0m         level \u001b[38;5;241m+\u001b[39m\u001b[38;5;241m=\u001b[39m \u001b[38;5;241m1\u001b[39m\n\u001b[0;32m---> 90\u001b[0m \u001b[38;5;28;01mreturn\u001b[39;00m _bootstrap\u001b[38;5;241m.\u001b[39m_gcd_import(name[level:], package, level)\n",
      "File \u001b[0;32m~/anaconda3/lib/python3.12/site-packages/snscrape/modules/instagram.py:12\u001b[0m\n\u001b[1;32m      6\u001b[0m \u001b[38;5;28;01mimport\u001b[39;00m \u001b[38;5;21;01mtyping\u001b[39;00m\n\u001b[1;32m      9\u001b[0m logger \u001b[38;5;241m=\u001b[39m logging\u001b[38;5;241m.\u001b[39mgetLogger(\u001b[38;5;18m__name__\u001b[39m)\n\u001b[0;32m---> 12\u001b[0m \u001b[38;5;28;01mclass\u001b[39;00m \u001b[38;5;21;01mInstagramPost\u001b[39;00m(typing\u001b[38;5;241m.\u001b[39mNamedTuple, snscrape\u001b[38;5;241m.\u001b[39mbase\u001b[38;5;241m.\u001b[39mItem):\n\u001b[1;32m     13\u001b[0m \tcleanUrl: \u001b[38;5;28mstr\u001b[39m\n\u001b[1;32m     14\u001b[0m \tdirtyUrl: \u001b[38;5;28mstr\u001b[39m\n",
      "File \u001b[0;32m~/anaconda3/lib/python3.12/typing.py:2813\u001b[0m, in \u001b[0;36mNamedTupleMeta.__new__\u001b[0;34m(cls, typename, bases, ns)\u001b[0m\n\u001b[1;32m   2811\u001b[0m \u001b[38;5;28;01mfor\u001b[39;00m base \u001b[38;5;129;01min\u001b[39;00m bases:\n\u001b[1;32m   2812\u001b[0m     \u001b[38;5;28;01mif\u001b[39;00m base \u001b[38;5;129;01mis\u001b[39;00m \u001b[38;5;129;01mnot\u001b[39;00m _NamedTuple \u001b[38;5;129;01mand\u001b[39;00m base \u001b[38;5;129;01mis\u001b[39;00m \u001b[38;5;129;01mnot\u001b[39;00m Generic:\n\u001b[0;32m-> 2813\u001b[0m         \u001b[38;5;28;01mraise\u001b[39;00m \u001b[38;5;167;01mTypeError\u001b[39;00m(\n\u001b[1;32m   2814\u001b[0m             \u001b[38;5;124m'\u001b[39m\u001b[38;5;124mcan only inherit from a NamedTuple type and Generic\u001b[39m\u001b[38;5;124m'\u001b[39m)\n\u001b[1;32m   2815\u001b[0m bases \u001b[38;5;241m=\u001b[39m \u001b[38;5;28mtuple\u001b[39m(\u001b[38;5;28mtuple\u001b[39m \u001b[38;5;28;01mif\u001b[39;00m base \u001b[38;5;129;01mis\u001b[39;00m _NamedTuple \u001b[38;5;28;01melse\u001b[39;00m base \u001b[38;5;28;01mfor\u001b[39;00m base \u001b[38;5;129;01min\u001b[39;00m bases)\n\u001b[1;32m   2816\u001b[0m types \u001b[38;5;241m=\u001b[39m ns\u001b[38;5;241m.\u001b[39mget(\u001b[38;5;124m'\u001b[39m\u001b[38;5;124m__annotations__\u001b[39m\u001b[38;5;124m'\u001b[39m, {})\n",
      "\u001b[0;31mTypeError\u001b[0m: can only inherit from a NamedTuple type and Generic"
     ]
    }
   ],
   "source": [
    "import snscrape.modules.twitter as sntwitter\n",
    "\n",
    "import pandas as pd\n",
    "from datetime import datetime, timedelta\n",
    "import matplotlib.pyplot as plt\n",
    "\n",
    "# Define search parameters\n",
    "query = \"Bitcoin (BlackRock OR Goldman Sachs OR Fidelity OR Vanguard OR Morgan Stanley)\"  # Institutions and Bitcoin\n",
    "end_date = datetime.now()\n",
    "start_date = end_date - timedelta(days=30)\n",
    "\n",
    "# Scrape tweets\n",
    "tweets = []\n",
    "for tweet in sntwitter.TwitterSearchScraper(f\"{query} since:{start_date.strftime('%Y-%m-%d')} until:{end_date.strftime('%Y-%m-%d')}\").get_items():\n",
    "    tweets.append({\n",
    "        \"Date\": tweet.date.date(),  # Extract only the date (not time)\n",
    "        \"User\": tweet.user.username,\n",
    "        \"Text\": tweet.content,\n",
    "        \"Likes\": tweet.likeCount,\n",
    "        \"Retweets\": tweet.retweetCount\n",
    "    })\n",
    "\n",
    "# Convert to DataFrame\n",
    "tweets_df = pd.DataFrame(tweets)\n",
    "\n",
    "# Save to CSV\n",
    "tweets_df.to_csv(\"institutional_bitcoin_tweets_30days.csv\", index=False)\n",
    "\n",
    "# Data aggregation for visualization\n",
    "tweets_per_day = tweets_df.groupby(\"Date\").size()\n",
    "\n",
    "# Plot tweet activity over the last 30 days\n",
    "plt.figure(figsize=(12, 6))\n",
    "tweets_per_day.plot(kind=\"bar\", color=\"skyblue\")\n",
    "plt.title(\"Tweet Activity About Bitcoin and Institutions (Last 30 Days)\", fontsize=16)\n",
    "plt.xlabel(\"Date\", fontsize=12)\n",
    "plt.ylabel(\"Number of Tweets\", fontsize=12)\n",
    "plt.xticks(rotation=45, fontsize=10)\n",
    "plt.tight_layout()\n",
    "plt.grid(axis=\"y\", linestyle=\"--\", alpha=0.7)\n",
    "plt.show()\n",
    "\n",
    "# Display results\n",
    "print(f\"Total tweets mentioning institutions and Bitcoin: {len(tweets_df)}\")\n",
    "print(\"Top tweets by likes:\")\n",
    "top_tweets = tweets_df.sort_values(by=\"Likes\", ascending=False).head(10)\n",
    "print(top_tweets)\n"
   ]
  },
  {
   "cell_type": "code",
   "execution_count": 4,
   "id": "c345e9f4-baa6-4112-91ee-1d8f0c2bf280",
   "metadata": {},
   "outputs": [
    {
     "name": "stdout",
     "output_type": "stream",
     "text": [
      "Collecting snscrape\n",
      "  Downloading snscrape-0.7.0.20230622-py3-none-any.whl.metadata (4.9 kB)\n",
      "Requirement already satisfied: requests[socks] in ./anaconda3/lib/python3.12/site-packages (from snscrape) (2.32.3)\n",
      "Requirement already satisfied: lxml in ./anaconda3/lib/python3.12/site-packages (from snscrape) (5.2.1)\n",
      "Requirement already satisfied: beautifulsoup4 in ./anaconda3/lib/python3.12/site-packages (from snscrape) (4.12.3)\n",
      "Requirement already satisfied: filelock in ./anaconda3/lib/python3.12/site-packages (from snscrape) (3.13.1)\n",
      "Requirement already satisfied: soupsieve>1.2 in ./anaconda3/lib/python3.12/site-packages (from beautifulsoup4->snscrape) (2.5)\n",
      "Requirement already satisfied: charset-normalizer<4,>=2 in ./anaconda3/lib/python3.12/site-packages (from requests[socks]->snscrape) (3.3.2)\n",
      "Requirement already satisfied: idna<4,>=2.5 in ./anaconda3/lib/python3.12/site-packages (from requests[socks]->snscrape) (3.7)\n",
      "Requirement already satisfied: urllib3<3,>=1.21.1 in ./anaconda3/lib/python3.12/site-packages (from requests[socks]->snscrape) (2.2.3)\n",
      "Requirement already satisfied: certifi>=2017.4.17 in ./anaconda3/lib/python3.12/site-packages (from requests[socks]->snscrape) (2024.8.30)\n",
      "Requirement already satisfied: PySocks!=1.5.7,>=1.5.6 in ./anaconda3/lib/python3.12/site-packages (from requests[socks]->snscrape) (1.7.1)\n",
      "Downloading snscrape-0.7.0.20230622-py3-none-any.whl (74 kB)\n",
      "Installing collected packages: snscrape\n",
      "Successfully installed snscrape-0.7.0.20230622\n"
     ]
    }
   ],
   "source": [
    "!pip install snscrape"
   ]
  },
  {
   "cell_type": "code",
   "execution_count": 14,
   "id": "7cd8f1d3-020e-4203-9f35-bc4daa382648",
   "metadata": {},
   "outputs": [
    {
     "name": "stdout",
     "output_type": "stream",
     "text": [
      "Requirement already satisfied: snscrape in ./anaconda3/lib/python3.12/site-packages (0.3.0)\n",
      "Requirement already satisfied: requests[socks] in ./anaconda3/lib/python3.12/site-packages (from snscrape) (2.32.3)\n",
      "Requirement already satisfied: lxml in ./anaconda3/lib/python3.12/site-packages (from snscrape) (5.2.1)\n",
      "Requirement already satisfied: beautifulsoup4 in ./anaconda3/lib/python3.12/site-packages (from snscrape) (4.12.3)\n",
      "Requirement already satisfied: soupsieve>1.2 in ./anaconda3/lib/python3.12/site-packages (from beautifulsoup4->snscrape) (2.5)\n",
      "Requirement already satisfied: charset-normalizer<4,>=2 in ./anaconda3/lib/python3.12/site-packages (from requests[socks]->snscrape) (3.3.2)\n",
      "Requirement already satisfied: idna<4,>=2.5 in ./anaconda3/lib/python3.12/site-packages (from requests[socks]->snscrape) (3.7)\n",
      "Requirement already satisfied: urllib3<3,>=1.21.1 in ./anaconda3/lib/python3.12/site-packages (from requests[socks]->snscrape) (2.2.3)\n",
      "Requirement already satisfied: certifi>=2017.4.17 in ./anaconda3/lib/python3.12/site-packages (from requests[socks]->snscrape) (2024.8.30)\n",
      "Requirement already satisfied: PySocks!=1.5.7,>=1.5.6 in ./anaconda3/lib/python3.12/site-packages (from requests[socks]->snscrape) (1.7.1)\n"
     ]
    }
   ],
   "source": [
    "!pip install snscrape\n"
   ]
  },
  {
   "cell_type": "code",
   "execution_count": null,
   "id": "0a5669bd-07af-40da-bc79-f97a1ffc9f9c",
   "metadata": {},
   "outputs": [],
   "source": []
  }
 ],
 "metadata": {
  "kernelspec": {
   "display_name": "Python 3 (ipykernel)",
   "language": "python",
   "name": "python3"
  },
  "language_info": {
   "codemirror_mode": {
    "name": "ipython",
    "version": 3
   },
   "file_extension": ".py",
   "mimetype": "text/x-python",
   "name": "python",
   "nbconvert_exporter": "python",
   "pygments_lexer": "ipython3",
   "version": "3.12.7"
  }
 },
 "nbformat": 4,
 "nbformat_minor": 5
}
