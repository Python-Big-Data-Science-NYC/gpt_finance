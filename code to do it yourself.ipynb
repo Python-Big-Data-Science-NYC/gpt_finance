{
 "cells": [
  {
   "cell_type": "code",
   "execution_count": 2,
   "id": "fc3d014f-02c3-4f01-a7dd-690d04616caa",
   "metadata": {},
   "outputs": [
    {
     "ename": "ModuleNotFoundError",
     "evalue": "No module named 'pybtex'",
     "output_type": "error",
     "traceback": [
      "\u001b[0;31m---------------------------------------------------------------------------\u001b[0m",
      "\u001b[0;31mModuleNotFoundError\u001b[0m                       Traceback (most recent call last)",
      "Cell \u001b[0;32mIn[2], line 4\u001b[0m\n\u001b[1;32m      2\u001b[0m \u001b[38;5;28;01mimport\u001b[39;00m \u001b[38;5;21;01mnetworkx\u001b[39;00m \u001b[38;5;28;01mas\u001b[39;00m \u001b[38;5;21;01mnx\u001b[39;00m\n\u001b[1;32m      3\u001b[0m \u001b[38;5;28;01mimport\u001b[39;00m \u001b[38;5;21;01mmatplotlib\u001b[39;00m\u001b[38;5;21;01m.\u001b[39;00m\u001b[38;5;21;01mpyplot\u001b[39;00m \u001b[38;5;28;01mas\u001b[39;00m \u001b[38;5;21;01mplt\u001b[39;00m\n\u001b[0;32m----> 4\u001b[0m \u001b[38;5;28;01mfrom\u001b[39;00m \u001b[38;5;21;01mpybtex\u001b[39;00m\u001b[38;5;21;01m.\u001b[39;00m\u001b[38;5;21;01mdatabase\u001b[39;00m \u001b[38;5;28;01mimport\u001b[39;00m parse_file\n\u001b[1;32m      6\u001b[0m \u001b[38;5;66;03m# Load and parse the .bib file\u001b[39;00m\n\u001b[1;32m      7\u001b[0m \u001b[38;5;28;01mdef\u001b[39;00m \u001b[38;5;21mparse_bib_file\u001b[39m(file_path):\n",
      "\u001b[0;31mModuleNotFoundError\u001b[0m: No module named 'pybtex'"
     ]
    }
   ],
   "source": [
    "import re\n",
    "import networkx as nx\n",
    "import matplotlib.pyplot as plt\n",
    "from pybtex.database import parse_file\n",
    "\n",
    "# Load and parse the .bib file\n",
    "def parse_bib_file(file_path):\n",
    "    bib_data = parse_file(file_path)\n",
    "    entries = {}\n",
    "\n",
    "    for key, entry in bib_data.entries.items():\n",
    "        title = entry.fields.get('title', 'Unknown Title').lower()\n",
    "        citations = entry.fields.get('note', '')  # Use 'note' or custom fields for citations\n",
    "        cited_keys = re.findall(r'\\b\\w+\\b', citations)\n",
    "        entries[key] = {\n",
    "            'title': title,\n",
    "            'citations': cited_keys,\n",
    "        }\n",
    "\n",
    "    return entries\n",
    "\n",
    "# Find the top N cited papers\n",
    "def get_top_cited_papers(entries, top_n=5):\n",
    "    citation_counts = {}\n",
    "\n",
    "    for entry in entries.values():\n",
    "        for citation in entry['citations']:\n",
    "            citation_counts[citation] = citation_counts.get(citation, 0) + 1\n",
    "\n",
    "    top_cited = sorted(citation_counts.items(), key=lambda x: x[1], reverse=True)[:top_n]\n",
    "    return [key for key, _ in top_cited]\n",
    "\n",
    "# Build a citation graph\n",
    "def build_citation_graph(entries, top_papers):\n",
    "    graph = nx.DiGraph()\n",
    "\n",
    "    for key, data in entries.items():\n",
    "        if key in top_papers:\n",
    "            graph.add_node(key, title=data['title'])\n",
    "            for citation in data['citations']:\n",
    "                if citation in top_papers:\n",
    "                    graph.add_edge(citation, key)\n",
    "\n",
    "    return graph\n",
    "\n",
    "# Plot the citation graph\n",
    "def plot_citation_graph(graph):\n",
    "    pos = nx.spring_layout(graph)\n",
    "    plt.figure(figsize=(10, 8))\n",
    "\n",
    "    nx.draw(graph, pos, with_labels=False, node_color='lightblue', node_size=3000, edge_color='gray')\n",
    "\n",
    "    # Draw labels\n",
    "    labels = {node: graph.nodes[node]['title'] for node in graph.nodes()}\n",
    "    for key, (x, y) in pos.items():\n",
    "        plt.text(x, y, labels[key], fontsize=8, ha='center', va='center', wrap=True)\n",
    "\n",
    "    plt.title(\"Top 5 BERT Papers Citation Graph\")\n",
    "    plt.show()\n",
    "\n",
    "# Main execution\n",
    "if __name__ == \"__main__\":\n",
    "    bib_file_path = \"path_to_your_file.bib\"  # Replace with your .bib file path\n",
    "\n",
    "    # Parse the .bib file\n",
    "    entries = parse_bib_file(bib_file_path)\n",
    "\n",
    "    # Identify top 5 cited papers\n",
    "    top_papers = get_top_cited_papers(entries, top_n=5)\n",
    "\n",
    "    # Build and plot the citation graph\n",
    "    citation_graph = build_citation_graph(entries, top_papers)\n",
    "    plot_citation_graph(citation_graph)\n"
   ]
  },
  {
   "cell_type": "code",
   "execution_count": null,
   "id": "8b2f8ef2-27c8-4c3f-aa53-8a634cb6e197",
   "metadata": {},
   "outputs": [],
   "source": []
  }
 ],
 "metadata": {
  "kernelspec": {
   "display_name": "Python 3 (ipykernel)",
   "language": "python",
   "name": "python3"
  },
  "language_info": {
   "codemirror_mode": {
    "name": "ipython",
    "version": 3
   },
   "file_extension": ".py",
   "mimetype": "text/x-python",
   "name": "python",
   "nbconvert_exporter": "python",
   "pygments_lexer": "ipython3",
   "version": "3.12.7"
  }
 },
 "nbformat": 4,
 "nbformat_minor": 5
}
