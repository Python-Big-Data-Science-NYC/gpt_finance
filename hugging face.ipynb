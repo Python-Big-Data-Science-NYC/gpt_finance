{
 "cells": [
  {
   "cell_type": "code",
   "execution_count": 5,
   "id": "bb46fc6e-7605-43ac-8659-e1c3a1c83f6f",
   "metadata": {},
   "outputs": [
    {
     "name": "stderr",
     "output_type": "stream",
     "text": [
      "[*********************100%***********************]  1 of 1 completed\n",
      "No model was supplied, defaulted to distilbert/distilbert-base-uncased-finetuned-sst-2-english and revision 714eb0f (https://huggingface.co/distilbert/distilbert-base-uncased-finetuned-sst-2-english).\n",
      "Using a pipeline without specifying a model name and revision in production is not recommended.\n"
     ]
    },
    {
     "data": {
      "text/plain": [
       "['POSITIVE', 'POSITIVE', 'NEGATIVE', 'NEGATIVE', 'POSITIVE']"
      ]
     },
     "execution_count": 5,
     "metadata": {},
     "output_type": "execute_result"
    }
   ],
   "source": [
    "import yfinance as yf\n",
    "import pandas as pd\n",
    "from transformers import pipeline\n",
    "import matplotlib.pyplot as plt\n",
    "\n",
    "# Step 1: Fetch Stock Data (e.g., Apple)\n",
    "symbol = 'AAPL'\n",
    "data = yf.download(symbol, start=\"2022-01-01\", end=\"2024-01-01\")\n",
    "\n",
    "# Step 2: Load Hugging Face Sentiment Analysis Pipeline\n",
    "sentiment_analyzer = pipeline(\"sentiment-analysis\")\n",
    "\n",
    "# Step 3: Example Financial News Headlines (Replace with actual API calls or datasets)\n",
    "# Here we are simulating the news headlines\n",
    "headlines = [\n",
    "    \"Apple stock rises as quarterly earnings beat estimates\",\n",
    "    \"Apple launches new iPhone model, boosting investor confidence\",\n",
    "    \"Apple faces decline in quarterly revenue amid global chip shortage\",\n",
    "    \"Apple stock drops as market reacts to CEO's controversial comments\",\n",
    "    \"Apple sees strong growth in services, offsetting hardware sales decline\"\n",
    "]\n",
    "\n",
    "# Step 4: Analyze Sentiment of the News Headlines\n",
    "sentiments = [sentiment_analyzer(headline)[0]['label'] for headline in headlines]\n",
    "sentiments"
   ]
  },
  {
   "cell_type": "raw",
   "id": "6d788939-67de-469f-b5a2-931b849851fe",
   "metadata": {},
   "source": [
    "!pip install transformers\n",
    "!pip install torch\n",
    "!pip install yfinance\n",
    "!pip install pandas"
   ]
  },
  {
   "cell_type": "code",
   "execution_count": null,
   "id": "97414766-ac6c-48b6-bff8-d985aa8451f2",
   "metadata": {},
   "outputs": [],
   "source": [
    "# !pip install torch\n"
   ]
  },
  {
   "cell_type": "markdown",
   "id": "70ce5c8a-08ad-45b3-b580-40f840e0284d",
   "metadata": {},
   "source": [
    "<!-- !pip install tensorflow -->\n"
   ]
  },
  {
   "cell_type": "code",
   "execution_count": 7,
   "id": "fe62fd54-5eb9-4ef8-b7c8-73bd1cd58660",
   "metadata": {},
   "outputs": [
    {
     "ename": "ValueError",
     "evalue": "Length of values (500) does not match length of index (501)",
     "output_type": "error",
     "traceback": [
      "\u001b[0;31m---------------------------------------------------------------------------\u001b[0m",
      "\u001b[0;31mValueError\u001b[0m                                Traceback (most recent call last)",
      "Cell \u001b[0;32mIn[7], line 9\u001b[0m\n\u001b[1;32m      3\u001b[0m sentiment_scores \u001b[38;5;241m=\u001b[39m [sentiment_map[sentiment] \u001b[38;5;28;01mfor\u001b[39;00m sentiment \u001b[38;5;129;01min\u001b[39;00m sentiments]\n\u001b[1;32m      5\u001b[0m \u001b[38;5;66;03m# Step 5: Simulate Sentiment-Based Stock Trading Strategy\u001b[39;00m\n\u001b[1;32m      6\u001b[0m \u001b[38;5;66;03m# Here, we'll use sentiment as a simple indicator to buy (1), sell (-1), or hold (0)\u001b[39;00m\n\u001b[1;32m      7\u001b[0m \u001b[38;5;66;03m# For simplicity, we assume the sentiment on the 5th day after the news impact stock price.\u001b[39;00m\n\u001b[0;32m----> 9\u001b[0m data[\u001b[38;5;124m'\u001b[39m\u001b[38;5;124mSentiment\u001b[39m\u001b[38;5;124m'\u001b[39m] \u001b[38;5;241m=\u001b[39m pd\u001b[38;5;241m.\u001b[39mSeries(sentiment_scores \u001b[38;5;241m*\u001b[39m (\u001b[38;5;28mlen\u001b[39m(data) \u001b[38;5;241m/\u001b[39m\u001b[38;5;241m/\u001b[39m \u001b[38;5;28mlen\u001b[39m(sentiment_scores)), index\u001b[38;5;241m=\u001b[39mdata\u001b[38;5;241m.\u001b[39mindex[:\u001b[38;5;28mlen\u001b[39m(data)])\n\u001b[1;32m     11\u001b[0m \u001b[38;5;66;03m# Step 6: Apply a Moving Average (SMA) strategy to simulate a quant strategy\u001b[39;00m\n\u001b[1;32m     12\u001b[0m data[\u001b[38;5;124m'\u001b[39m\u001b[38;5;124mSMA50\u001b[39m\u001b[38;5;124m'\u001b[39m] \u001b[38;5;241m=\u001b[39m data[\u001b[38;5;124m'\u001b[39m\u001b[38;5;124mClose\u001b[39m\u001b[38;5;124m'\u001b[39m]\u001b[38;5;241m.\u001b[39mrolling(window\u001b[38;5;241m=\u001b[39m\u001b[38;5;241m50\u001b[39m)\u001b[38;5;241m.\u001b[39mmean()\n",
      "File \u001b[0;32m~/anaconda3/lib/python3.12/site-packages/pandas/core/series.py:575\u001b[0m, in \u001b[0;36mSeries.__init__\u001b[0;34m(self, data, index, dtype, name, copy, fastpath)\u001b[0m\n\u001b[1;32m    573\u001b[0m     index \u001b[38;5;241m=\u001b[39m default_index(\u001b[38;5;28mlen\u001b[39m(data))\n\u001b[1;32m    574\u001b[0m \u001b[38;5;28;01melif\u001b[39;00m is_list_like(data):\n\u001b[0;32m--> 575\u001b[0m     com\u001b[38;5;241m.\u001b[39mrequire_length_match(data, index)\n\u001b[1;32m    577\u001b[0m \u001b[38;5;66;03m# create/copy the manager\u001b[39;00m\n\u001b[1;32m    578\u001b[0m \u001b[38;5;28;01mif\u001b[39;00m \u001b[38;5;28misinstance\u001b[39m(data, (SingleBlockManager, SingleArrayManager)):\n",
      "File \u001b[0;32m~/anaconda3/lib/python3.12/site-packages/pandas/core/common.py:573\u001b[0m, in \u001b[0;36mrequire_length_match\u001b[0;34m(data, index)\u001b[0m\n\u001b[1;32m    569\u001b[0m \u001b[38;5;250m\u001b[39m\u001b[38;5;124;03m\"\"\"\u001b[39;00m\n\u001b[1;32m    570\u001b[0m \u001b[38;5;124;03mCheck the length of data matches the length of the index.\u001b[39;00m\n\u001b[1;32m    571\u001b[0m \u001b[38;5;124;03m\"\"\"\u001b[39;00m\n\u001b[1;32m    572\u001b[0m \u001b[38;5;28;01mif\u001b[39;00m \u001b[38;5;28mlen\u001b[39m(data) \u001b[38;5;241m!=\u001b[39m \u001b[38;5;28mlen\u001b[39m(index):\n\u001b[0;32m--> 573\u001b[0m     \u001b[38;5;28;01mraise\u001b[39;00m \u001b[38;5;167;01mValueError\u001b[39;00m(\n\u001b[1;32m    574\u001b[0m         \u001b[38;5;124m\"\u001b[39m\u001b[38;5;124mLength of values \u001b[39m\u001b[38;5;124m\"\u001b[39m\n\u001b[1;32m    575\u001b[0m         \u001b[38;5;124mf\u001b[39m\u001b[38;5;124m\"\u001b[39m\u001b[38;5;124m(\u001b[39m\u001b[38;5;132;01m{\u001b[39;00m\u001b[38;5;28mlen\u001b[39m(data)\u001b[38;5;132;01m}\u001b[39;00m\u001b[38;5;124m) \u001b[39m\u001b[38;5;124m\"\u001b[39m\n\u001b[1;32m    576\u001b[0m         \u001b[38;5;124m\"\u001b[39m\u001b[38;5;124mdoes not match length of index \u001b[39m\u001b[38;5;124m\"\u001b[39m\n\u001b[1;32m    577\u001b[0m         \u001b[38;5;124mf\u001b[39m\u001b[38;5;124m\"\u001b[39m\u001b[38;5;124m(\u001b[39m\u001b[38;5;132;01m{\u001b[39;00m\u001b[38;5;28mlen\u001b[39m(index)\u001b[38;5;132;01m}\u001b[39;00m\u001b[38;5;124m)\u001b[39m\u001b[38;5;124m\"\u001b[39m\n\u001b[1;32m    578\u001b[0m     )\n",
      "\u001b[0;31mValueError\u001b[0m: Length of values (500) does not match length of index (501)"
     ]
    }
   ],
   "source": [
    "\n",
    "# Map sentiment labels to numerical values (Positive: 1, Negative: -1, Neutral: 0)\n",
    "sentiment_map = {'POSITIVE': 1, 'NEGATIVE': -1, 'NEUTRAL': 0}\n",
    "sentiment_scores = [sentiment_map[sentiment] for sentiment in sentiments]\n",
    "\n",
    "# Step 5: Simulate Sentiment-Based Stock Trading Strategy\n",
    "# Here, we'll use sentiment as a simple indicator to buy (1), sell (-1), or hold (0)\n",
    "# For simplicity, we assume the sentiment on the 5th day after the news impact stock price.\n",
    "\n",
    "data['Sentiment'] = pd.Series(sentiment_scores * (len(data) // len(sentiment_scores)), index=data.index[:len(data)])\n",
    "\n",
    "# Step 6: Apply a Moving Average (SMA) strategy to simulate a quant strategy\n",
    "data['SMA50'] = data['Close'].rolling(window=50).mean()\n",
    "data['SMA200'] = data['Close'].rolling(window=200).mean()\n",
    "\n",
    "# Define Buy (1) or Sell (-1) based on the crossing of SMA50 and SMA200\n",
    "data['Signal'] = 0\n",
    "data.loc[data['SMA50'] > data['SMA200'], 'Signal'] = 1  # Buy signal\n",
    "data.loc[data['SMA50'] < data['SMA200'], 'Signal'] = -1  # Sell signal\n",
    "\n",
    "# Step 7: Combine Sentiment and SMA Signal for trading strategy\n",
    "data['Strategy Signal'] = data['Signal'] * data['Sentiment']\n",
    "\n",
    "# Step 8: Calculate the daily returns based on the strategy signals\n",
    "data['Daily Return'] = data['Close'].pct_change()\n",
    "data['Strategy Return'] = data['Strategy Signal'].shift(1) * data['Daily Return']  # Shift the signal\n",
    "\n",
    "# Step 9: Plot the Cumulative Returns for Stock vs Strategy\n",
    "data['Cumulative Stock Return'] = (1 + data['Daily Return']).cumprod()\n",
    "data['Cumulative Strategy Return'] = (1 + data['Strategy Return']).cumprod()\n",
    "\n",
    "plt.figure(figsize=(12, 6))\n",
    "plt.plot(data['Cumulative Stock Return'], label='Stock Cumulative Return', color='blue')\n",
    "plt.plot(data['Cumulative Strategy Return'], label='Strategy Cumulative Return', color='red')\n",
    "plt.title(f'{symbol} Cumulative Returns: Stock vs Strategy with Sentiment and SMA')\n",
    "plt.xlabel('Date')\n",
    "plt.ylabel('Cumulative Return')\n",
    "plt.legend()\n",
    "plt.show()\n",
    "\n",
    "# Print final cumulative returns\n",
    "print(f\"Final Stock Cumulative Return: {data['Cumulative Stock Return'].iloc[-1]:.2f}\")\n",
    "print(f\"Final Strategy Cumulative Return: {data['Cumulative Strategy Return'].iloc[-1]:.2f}\")\n"
   ]
  },
  {
   "cell_type": "code",
   "execution_count": 12,
   "id": "a3508191-1c58-41ca-98d2-413557e9bc3c",
   "metadata": {},
   "outputs": [
    {
     "data": {
      "application/vnd.jupyter.widget-view+json": {
       "model_id": "68b6ed3249884ebab211957c54abe068",
       "version_major": 2,
       "version_minor": 0
      },
      "text/plain": [
       "tokenizer_config.json:   0%|          | 0.00/48.0 [00:00<?, ?B/s]"
      ]
     },
     "metadata": {},
     "output_type": "display_data"
    },
    {
     "data": {
      "application/vnd.jupyter.widget-view+json": {
       "model_id": "140f349be17d4ce1bbb9cd14ef345e59",
       "version_major": 2,
       "version_minor": 0
      },
      "text/plain": [
       "vocab.txt:   0%|          | 0.00/232k [00:00<?, ?B/s]"
      ]
     },
     "metadata": {},
     "output_type": "display_data"
    },
    {
     "data": {
      "application/vnd.jupyter.widget-view+json": {
       "model_id": "2a3d9676d2ff40aea10e4aa0b68712c1",
       "version_major": 2,
       "version_minor": 0
      },
      "text/plain": [
       "tokenizer.json:   0%|          | 0.00/466k [00:00<?, ?B/s]"
      ]
     },
     "metadata": {},
     "output_type": "display_data"
    },
    {
     "data": {
      "application/vnd.jupyter.widget-view+json": {
       "model_id": "a68daca148874f08913da500d5cda8b5",
       "version_major": 2,
       "version_minor": 0
      },
      "text/plain": [
       "config.json:   0%|          | 0.00/570 [00:00<?, ?B/s]"
      ]
     },
     "metadata": {},
     "output_type": "display_data"
    },
    {
     "data": {
      "application/vnd.jupyter.widget-view+json": {
       "model_id": "cc7ca8fcca1847dfb4b2776f5a80cefd",
       "version_major": 2,
       "version_minor": 0
      },
      "text/plain": [
       "model.safetensors:   0%|          | 0.00/440M [00:00<?, ?B/s]"
      ]
     },
     "metadata": {},
     "output_type": "display_data"
    },
    {
     "name": "stdout",
     "output_type": "stream",
     "text": [
      "Document embeddings shape: (4, 768)\n",
      "Query: What is AI?\n",
      "Top 3 most relevant documents:\n",
      "- Artificial intelligence is the new electricity. (Similarity score: 62.5785)\n"
     ]
    },
    {
     "ename": "IndexError",
     "evalue": "index 3 is out of bounds for axis 0 with size 3",
     "output_type": "error",
     "traceback": [
      "\u001b[0;31m---------------------------------------------------------------------------\u001b[0m",
      "\u001b[0;31mIndexError\u001b[0m                                Traceback (most recent call last)",
      "Cell \u001b[0;32mIn[12], line 54\u001b[0m\n\u001b[1;32m     52\u001b[0m \u001b[38;5;28mprint\u001b[39m(\u001b[38;5;124m\"\u001b[39m\u001b[38;5;124mTop 3 most relevant documents:\u001b[39m\u001b[38;5;124m\"\u001b[39m)\n\u001b[1;32m     53\u001b[0m \u001b[38;5;28;01mfor\u001b[39;00m i \u001b[38;5;129;01min\u001b[39;00m I[\u001b[38;5;241m0\u001b[39m]:\n\u001b[0;32m---> 54\u001b[0m     \u001b[38;5;28mprint\u001b[39m(\u001b[38;5;124mf\u001b[39m\u001b[38;5;124m\"\u001b[39m\u001b[38;5;124m- \u001b[39m\u001b[38;5;132;01m{\u001b[39;00mdocuments[i]\u001b[38;5;132;01m}\u001b[39;00m\u001b[38;5;124m (Similarity score: \u001b[39m\u001b[38;5;132;01m{\u001b[39;00mD[\u001b[38;5;241m0\u001b[39m][i]\u001b[38;5;132;01m:\u001b[39;00m\u001b[38;5;124m.4f\u001b[39m\u001b[38;5;132;01m}\u001b[39;00m\u001b[38;5;124m)\u001b[39m\u001b[38;5;124m\"\u001b[39m)\n",
      "\u001b[0;31mIndexError\u001b[0m: index 3 is out of bounds for axis 0 with size 3"
     ]
    }
   ],
   "source": [
    "from transformers import BertTokenizer, BertModel\n",
    "import torch\n",
    "import faiss\n",
    "import numpy as np\n",
    "\n",
    "# Initialize the BERT model and tokenizer\n",
    "tokenizer = BertTokenizer.from_pretrained('bert-base-uncased')\n",
    "model = BertModel.from_pretrained('bert-base-uncased')\n",
    "\n",
    "# Function to get BERT embeddings for a text\n",
    "def get_bert_embeddings(text):\n",
    "    inputs = tokenizer(text, return_tensors='pt', truncation=True, padding=True, max_length=512)\n",
    "    with torch.no_grad():\n",
    "        outputs = model(**inputs)\n",
    "    # Use the mean of all token embeddings (pooling)\n",
    "    return outputs.last_hidden_state.mean(dim=1).squeeze().numpy()\n",
    "\n",
    "# Example documents to index\n",
    "documents = [\n",
    "    \"Artificial intelligence is the new electricity.\",\n",
    "    \"Machine learning is a subset of AI.\",\n",
    "    \"BERT is a transformer-based model for NLP tasks.\",\n",
    "    \"Deep learning powers most AI applications today.\"\n",
    "]\n",
    "\n",
    "# Step 1: Get embeddings for the documents\n",
    "doc_embeddings = np.array([get_bert_embeddings(doc) for doc in documents])\n",
    "\n",
    "# Check the dimensions of doc_embeddings to ensure the length matches\n",
    "print(\"Document embeddings shape:\", doc_embeddings.shape)\n",
    "\n",
    "# Ensure there are no discrepancies in the embeddings length\n",
    "if len(doc_embeddings) != len(documents):\n",
    "    raise ValueError(f\"Embedding length mismatch: {len(doc_embeddings)} embeddings, but {len(documents)} documents.\")\n",
    "\n",
    "# Step 2: Index the embeddings using FAISS\n",
    "index = faiss.IndexFlatL2(doc_embeddings.shape[1])  # Create the FAISS index\n",
    "index.add(doc_embeddings)  # Add embeddings to the index\n",
    "\n",
    "# Step 3: Query processing\n",
    "query = \"What is AI?\"\n",
    "\n",
    "# Get the query embedding\n",
    "query_embedding = get_bert_embeddings(query).reshape(1, -1)\n",
    "\n",
    "# Step 4: Perform similarity search\n",
    "k = 3  # Number of results to retrieve\n",
    "D, I = index.search(query_embedding, k)  # D is the distances, I is the indices of the closest documents\n",
    "\n",
    "# Step 5: Display the results\n",
    "print(\"Query:\", query)\n",
    "print(\"Top 3 most relevant documents:\")\n",
    "for i in I[0]:\n",
    "    print(f\"- {documents[i]} (Similarity score: {D[0][i]:.4f})\")\n"
   ]
  },
  {
   "cell_type": "raw",
   "id": "3e11d59c-9915-4385-9559-2474e374d14e",
   "metadata": {},
   "source": [
    "!pip install faiss-cpu\n"
   ]
  },
  {
   "cell_type": "code",
   "execution_count": null,
   "id": "8e0e1a87-9427-4991-98f5-422c19a747df",
   "metadata": {},
   "outputs": [],
   "source": []
  }
 ],
 "metadata": {
  "kernelspec": {
   "display_name": "Python 3 (ipykernel)",
   "language": "python",
   "name": "python3"
  },
  "language_info": {
   "codemirror_mode": {
    "name": "ipython",
    "version": 3
   },
   "file_extension": ".py",
   "mimetype": "text/x-python",
   "name": "python",
   "nbconvert_exporter": "python",
   "pygments_lexer": "ipython3",
   "version": "3.12.7"
  }
 },
 "nbformat": 4,
 "nbformat_minor": 5
}
