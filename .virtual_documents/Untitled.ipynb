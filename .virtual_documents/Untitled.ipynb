



import kagglehub

# Download latest version
path = kagglehub.dataset_download("saurabhbagchi/dish-network-hackathon")

print("Path to dataset files:", path)



