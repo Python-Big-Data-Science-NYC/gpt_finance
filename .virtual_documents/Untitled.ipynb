import torch
from torch import nn
from transformers import Trainer, TrainingArguments, BertTokenizer, BertForSequenceClassification
from datasets import load_dataset
from sklearn.linear_model import LogisticRegression
from sklearn.metrics import accuracy_score



dataset = load_dataset("imdb")



tokenizer = BertTokenizer.from_pretrained("bert-base-uncased")

def tokenize_function(examples):
    return tokenizer(examples["text"], padding="max_length", truncation=True)

# Tokenize the data
tokenized_datasets = dataset.map(tokenize_function, batched=True)




