import torch

# Create a tensor filled with zeros
tensor = torch.zeros(3, 2)  # 3x2 matrix
print(tensor)

# Perform an operation on the tensor
tensor_sum = tensor + 2  # Adds 2 to every element
print(tensor_sum)

# Moving tensor to GPU (if available)
if torch.cuda.is_available():
    tensor = tensor.to("cuda")
    print("Tensor is on GPU:", tensor.device)




